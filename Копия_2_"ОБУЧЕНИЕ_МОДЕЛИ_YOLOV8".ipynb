{
  "cells": [
    {
      "cell_type": "markdown",
      "metadata": {
        "id": "view-in-github",
        "colab_type": "text"
      },
      "source": [
        "<a href=\"https://colab.research.google.com/github/githubdrach/repo/blob/main/%D0%9A%D0%BE%D0%BF%D0%B8%D1%8F_2_%22%D0%9E%D0%91%D0%A3%D0%A7%D0%95%D0%9D%D0%98%D0%95_%D0%9C%D0%9E%D0%94%D0%95%D0%9B%D0%98_YOLOV8%22.ipynb\" target=\"_parent\"><img src=\"https://colab.research.google.com/assets/colab-badge.svg\" alt=\"Open In Colab\"/></a>"
      ]
    },
    {
      "cell_type": "code",
      "execution_count": 1,
      "metadata": {
        "id": "lIRfJZIEZUYQ",
        "colab": {
          "base_uri": "https://localhost:8080/"
        },
        "outputId": "485ae621-7d6a-4390-a25f-da886c632a81"
      },
      "outputs": [
        {
          "output_type": "stream",
          "name": "stdout",
          "text": [
            "Collecting ultralytics\n",
            "  Downloading ultralytics-8.2.79-py3-none-any.whl.metadata (41 kB)\n",
            "\u001b[?25l     \u001b[90m━━━━━━━━━━━━━━━━━━━━━━━━━━━━━━━━━━━━━━━━\u001b[0m \u001b[32m0.0/41.3 kB\u001b[0m \u001b[31m?\u001b[0m eta \u001b[36m-:--:--\u001b[0m\r\u001b[2K     \u001b[90m━━━━━━━━━━━━━━━━━━━━━━━━━━━━━━━━━━━━━━━━\u001b[0m \u001b[32m41.3/41.3 kB\u001b[0m \u001b[31m2.7 MB/s\u001b[0m eta \u001b[36m0:00:00\u001b[0m\n",
            "\u001b[?25hRequirement already satisfied: numpy<2.0.0,>=1.23.0 in /usr/local/lib/python3.10/dist-packages (from ultralytics) (1.26.4)\n",
            "Requirement already satisfied: matplotlib>=3.3.0 in /usr/local/lib/python3.10/dist-packages (from ultralytics) (3.7.1)\n",
            "Requirement already satisfied: opencv-python>=4.6.0 in /usr/local/lib/python3.10/dist-packages (from ultralytics) (4.10.0.84)\n",
            "Requirement already satisfied: pillow>=7.1.2 in /usr/local/lib/python3.10/dist-packages (from ultralytics) (9.4.0)\n",
            "Requirement already satisfied: pyyaml>=5.3.1 in /usr/local/lib/python3.10/dist-packages (from ultralytics) (6.0.2)\n",
            "Requirement already satisfied: requests>=2.23.0 in /usr/local/lib/python3.10/dist-packages (from ultralytics) (2.32.3)\n",
            "Requirement already satisfied: scipy>=1.4.1 in /usr/local/lib/python3.10/dist-packages (from ultralytics) (1.13.1)\n",
            "Requirement already satisfied: torch>=1.8.0 in /usr/local/lib/python3.10/dist-packages (from ultralytics) (2.3.1+cu121)\n",
            "Requirement already satisfied: torchvision>=0.9.0 in /usr/local/lib/python3.10/dist-packages (from ultralytics) (0.18.1+cu121)\n",
            "Requirement already satisfied: tqdm>=4.64.0 in /usr/local/lib/python3.10/dist-packages (from ultralytics) (4.66.5)\n",
            "Requirement already satisfied: psutil in /usr/local/lib/python3.10/dist-packages (from ultralytics) (5.9.5)\n",
            "Requirement already satisfied: py-cpuinfo in /usr/local/lib/python3.10/dist-packages (from ultralytics) (9.0.0)\n",
            "Requirement already satisfied: pandas>=1.1.4 in /usr/local/lib/python3.10/dist-packages (from ultralytics) (2.1.4)\n",
            "Requirement already satisfied: seaborn>=0.11.0 in /usr/local/lib/python3.10/dist-packages (from ultralytics) (0.13.1)\n",
            "Collecting ultralytics-thop>=2.0.0 (from ultralytics)\n",
            "  Downloading ultralytics_thop-2.0.5-py3-none-any.whl.metadata (8.9 kB)\n",
            "Requirement already satisfied: contourpy>=1.0.1 in /usr/local/lib/python3.10/dist-packages (from matplotlib>=3.3.0->ultralytics) (1.2.1)\n",
            "Requirement already satisfied: cycler>=0.10 in /usr/local/lib/python3.10/dist-packages (from matplotlib>=3.3.0->ultralytics) (0.12.1)\n",
            "Requirement already satisfied: fonttools>=4.22.0 in /usr/local/lib/python3.10/dist-packages (from matplotlib>=3.3.0->ultralytics) (4.53.1)\n",
            "Requirement already satisfied: kiwisolver>=1.0.1 in /usr/local/lib/python3.10/dist-packages (from matplotlib>=3.3.0->ultralytics) (1.4.5)\n",
            "Requirement already satisfied: packaging>=20.0 in /usr/local/lib/python3.10/dist-packages (from matplotlib>=3.3.0->ultralytics) (24.1)\n",
            "Requirement already satisfied: pyparsing>=2.3.1 in /usr/local/lib/python3.10/dist-packages (from matplotlib>=3.3.0->ultralytics) (3.1.2)\n",
            "Requirement already satisfied: python-dateutil>=2.7 in /usr/local/lib/python3.10/dist-packages (from matplotlib>=3.3.0->ultralytics) (2.8.2)\n",
            "Requirement already satisfied: pytz>=2020.1 in /usr/local/lib/python3.10/dist-packages (from pandas>=1.1.4->ultralytics) (2024.1)\n",
            "Requirement already satisfied: tzdata>=2022.1 in /usr/local/lib/python3.10/dist-packages (from pandas>=1.1.4->ultralytics) (2024.1)\n",
            "Requirement already satisfied: charset-normalizer<4,>=2 in /usr/local/lib/python3.10/dist-packages (from requests>=2.23.0->ultralytics) (3.3.2)\n",
            "Requirement already satisfied: idna<4,>=2.5 in /usr/local/lib/python3.10/dist-packages (from requests>=2.23.0->ultralytics) (3.7)\n",
            "Requirement already satisfied: urllib3<3,>=1.21.1 in /usr/local/lib/python3.10/dist-packages (from requests>=2.23.0->ultralytics) (2.0.7)\n",
            "Requirement already satisfied: certifi>=2017.4.17 in /usr/local/lib/python3.10/dist-packages (from requests>=2.23.0->ultralytics) (2024.7.4)\n",
            "Requirement already satisfied: filelock in /usr/local/lib/python3.10/dist-packages (from torch>=1.8.0->ultralytics) (3.15.4)\n",
            "Requirement already satisfied: typing-extensions>=4.8.0 in /usr/local/lib/python3.10/dist-packages (from torch>=1.8.0->ultralytics) (4.12.2)\n",
            "Requirement already satisfied: sympy in /usr/local/lib/python3.10/dist-packages (from torch>=1.8.0->ultralytics) (1.13.2)\n",
            "Requirement already satisfied: networkx in /usr/local/lib/python3.10/dist-packages (from torch>=1.8.0->ultralytics) (3.3)\n",
            "Requirement already satisfied: jinja2 in /usr/local/lib/python3.10/dist-packages (from torch>=1.8.0->ultralytics) (3.1.4)\n",
            "Requirement already satisfied: fsspec in /usr/local/lib/python3.10/dist-packages (from torch>=1.8.0->ultralytics) (2024.6.1)\n",
            "Collecting nvidia-cuda-nvrtc-cu12==12.1.105 (from torch>=1.8.0->ultralytics)\n",
            "  Using cached nvidia_cuda_nvrtc_cu12-12.1.105-py3-none-manylinux1_x86_64.whl.metadata (1.5 kB)\n",
            "Collecting nvidia-cuda-runtime-cu12==12.1.105 (from torch>=1.8.0->ultralytics)\n",
            "  Using cached nvidia_cuda_runtime_cu12-12.1.105-py3-none-manylinux1_x86_64.whl.metadata (1.5 kB)\n",
            "Collecting nvidia-cuda-cupti-cu12==12.1.105 (from torch>=1.8.0->ultralytics)\n",
            "  Using cached nvidia_cuda_cupti_cu12-12.1.105-py3-none-manylinux1_x86_64.whl.metadata (1.6 kB)\n",
            "Collecting nvidia-cudnn-cu12==8.9.2.26 (from torch>=1.8.0->ultralytics)\n",
            "  Using cached nvidia_cudnn_cu12-8.9.2.26-py3-none-manylinux1_x86_64.whl.metadata (1.6 kB)\n",
            "Collecting nvidia-cublas-cu12==12.1.3.1 (from torch>=1.8.0->ultralytics)\n",
            "  Using cached nvidia_cublas_cu12-12.1.3.1-py3-none-manylinux1_x86_64.whl.metadata (1.5 kB)\n",
            "Collecting nvidia-cufft-cu12==11.0.2.54 (from torch>=1.8.0->ultralytics)\n",
            "  Using cached nvidia_cufft_cu12-11.0.2.54-py3-none-manylinux1_x86_64.whl.metadata (1.5 kB)\n",
            "Collecting nvidia-curand-cu12==10.3.2.106 (from torch>=1.8.0->ultralytics)\n",
            "  Using cached nvidia_curand_cu12-10.3.2.106-py3-none-manylinux1_x86_64.whl.metadata (1.5 kB)\n",
            "Collecting nvidia-cusolver-cu12==11.4.5.107 (from torch>=1.8.0->ultralytics)\n",
            "  Using cached nvidia_cusolver_cu12-11.4.5.107-py3-none-manylinux1_x86_64.whl.metadata (1.6 kB)\n",
            "Collecting nvidia-cusparse-cu12==12.1.0.106 (from torch>=1.8.0->ultralytics)\n",
            "  Using cached nvidia_cusparse_cu12-12.1.0.106-py3-none-manylinux1_x86_64.whl.metadata (1.6 kB)\n",
            "Collecting nvidia-nccl-cu12==2.20.5 (from torch>=1.8.0->ultralytics)\n",
            "  Using cached nvidia_nccl_cu12-2.20.5-py3-none-manylinux2014_x86_64.whl.metadata (1.8 kB)\n",
            "Collecting nvidia-nvtx-cu12==12.1.105 (from torch>=1.8.0->ultralytics)\n",
            "  Using cached nvidia_nvtx_cu12-12.1.105-py3-none-manylinux1_x86_64.whl.metadata (1.7 kB)\n",
            "Requirement already satisfied: triton==2.3.1 in /usr/local/lib/python3.10/dist-packages (from torch>=1.8.0->ultralytics) (2.3.1)\n",
            "Collecting nvidia-nvjitlink-cu12 (from nvidia-cusolver-cu12==11.4.5.107->torch>=1.8.0->ultralytics)\n",
            "  Using cached nvidia_nvjitlink_cu12-12.6.20-py3-none-manylinux2014_x86_64.whl.metadata (1.5 kB)\n",
            "Requirement already satisfied: six>=1.5 in /usr/local/lib/python3.10/dist-packages (from python-dateutil>=2.7->matplotlib>=3.3.0->ultralytics) (1.16.0)\n",
            "Requirement already satisfied: MarkupSafe>=2.0 in /usr/local/lib/python3.10/dist-packages (from jinja2->torch>=1.8.0->ultralytics) (2.1.5)\n",
            "Requirement already satisfied: mpmath<1.4,>=1.1.0 in /usr/local/lib/python3.10/dist-packages (from sympy->torch>=1.8.0->ultralytics) (1.3.0)\n",
            "Downloading ultralytics-8.2.79-py3-none-any.whl (869 kB)\n",
            "\u001b[2K   \u001b[90m━━━━━━━━━━━━━━━━━━━━━━━━━━━━━━━━━━━━━━━━\u001b[0m \u001b[32m869.1/869.1 kB\u001b[0m \u001b[31m39.8 MB/s\u001b[0m eta \u001b[36m0:00:00\u001b[0m\n",
            "\u001b[?25hUsing cached nvidia_cublas_cu12-12.1.3.1-py3-none-manylinux1_x86_64.whl (410.6 MB)\n",
            "Using cached nvidia_cuda_cupti_cu12-12.1.105-py3-none-manylinux1_x86_64.whl (14.1 MB)\n",
            "Using cached nvidia_cuda_nvrtc_cu12-12.1.105-py3-none-manylinux1_x86_64.whl (23.7 MB)\n",
            "Using cached nvidia_cuda_runtime_cu12-12.1.105-py3-none-manylinux1_x86_64.whl (823 kB)\n",
            "Using cached nvidia_cudnn_cu12-8.9.2.26-py3-none-manylinux1_x86_64.whl (731.7 MB)\n",
            "Using cached nvidia_cufft_cu12-11.0.2.54-py3-none-manylinux1_x86_64.whl (121.6 MB)\n",
            "Using cached nvidia_curand_cu12-10.3.2.106-py3-none-manylinux1_x86_64.whl (56.5 MB)\n",
            "Using cached nvidia_cusolver_cu12-11.4.5.107-py3-none-manylinux1_x86_64.whl (124.2 MB)\n",
            "Using cached nvidia_cusparse_cu12-12.1.0.106-py3-none-manylinux1_x86_64.whl (196.0 MB)\n",
            "Using cached nvidia_nccl_cu12-2.20.5-py3-none-manylinux2014_x86_64.whl (176.2 MB)\n",
            "Using cached nvidia_nvtx_cu12-12.1.105-py3-none-manylinux1_x86_64.whl (99 kB)\n",
            "Downloading ultralytics_thop-2.0.5-py3-none-any.whl (25 kB)\n",
            "Using cached nvidia_nvjitlink_cu12-12.6.20-py3-none-manylinux2014_x86_64.whl (19.7 MB)\n",
            "Installing collected packages: nvidia-nvtx-cu12, nvidia-nvjitlink-cu12, nvidia-nccl-cu12, nvidia-curand-cu12, nvidia-cufft-cu12, nvidia-cuda-runtime-cu12, nvidia-cuda-nvrtc-cu12, nvidia-cuda-cupti-cu12, nvidia-cublas-cu12, nvidia-cusparse-cu12, nvidia-cudnn-cu12, nvidia-cusolver-cu12, ultralytics-thop, ultralytics\n",
            "Successfully installed nvidia-cublas-cu12-12.1.3.1 nvidia-cuda-cupti-cu12-12.1.105 nvidia-cuda-nvrtc-cu12-12.1.105 nvidia-cuda-runtime-cu12-12.1.105 nvidia-cudnn-cu12-8.9.2.26 nvidia-cufft-cu12-11.0.2.54 nvidia-curand-cu12-10.3.2.106 nvidia-cusolver-cu12-11.4.5.107 nvidia-cusparse-cu12-12.1.0.106 nvidia-nccl-cu12-2.20.5 nvidia-nvjitlink-cu12-12.6.20 nvidia-nvtx-cu12-12.1.105 ultralytics-8.2.79 ultralytics-thop-2.0.5\n",
            "Requirement already satisfied: Pillow in /usr/local/lib/python3.10/dist-packages (9.4.0)\n"
          ]
        }
      ],
      "source": [
        "#@title Загрузка библиотек\n",
        "!pip install ultralytics          # команда устанавливает пакет ultralytics, который содержит модуль YOLO для работы с моделями детекции объектов\n",
        "!pip install Pillow           # команда устанавливает пакет Pillow, который является библиотекой для обработки изображений в Pytho\n",
        "from ultralytics import YOLO    # оператор, который импортирует класс YOLO из модуля ultralytics, который позволяет создавать, загружать и использовать модели детекции объектов\n",
        "import torch        # оператор, который импортирует модуль torch, который является основной библиотекой для глубокого обучения и тензорных вычислений в Python\n",
        "from PIL import Image  # оператор, который импортирует класс Image из модуля PIL, который является синонимом для пакета Pillow, который позволяет создавать, редактировать и отображать изображения в Python\n",
        "import zipfile              # оператор, который импортирует модуль zipfile, который позволяет работать с ZIP-архивами в Python\n",
        "from google.colab import files    # оператор, который импортирует модуль files из пакета google.colab, который позволяет загружать и скачивать файлы в Google Colab, облачной среде для\n",
        "                                  # интерактивного программирования в Python\n",
        "import os           # оператор, который импортирует модуль os, который позволяет работать с операционной системой и файловой системой в Python\n",
        "from PIL import ImageDraw, ImageFont  # Оператор, который импортирует классы Image, ImageDraw и ImageFont из модуля PIL, который является синонимом для пакета Pillow,\n",
        "                                            # который позволяет создавать, редактировать и отображать изображения в Python.\n",
        "                                            # ImageDraw - это модуль, который содержит классы и функции для рисования на изображениях, например, линий, кругов, текста и т.д..\n",
        "                                            # ImageFont - это модуль, который содержит классы и функции для работы со шрифтами на изображениях, например, загрузки, выбора и рендеринга шрифтов.\n",
        "import locale       # оператор, который импортирует модуль locale, который позволяет работать с локализацией и интернационализацией в Python, то есть с настройками,\n",
        "                    # связанными с языком, страной, валютой, форматами даты и времени и т.д..\n",
        "\n",
        "#os.mkdir('image')  # принимает путь в качестве аргумента. Создание папки image\n",
        "#print('\\nКоличество оперативной памяти, выделяемой для CPU, T4GPU и TPU в Google Colab')\n",
        "#!cat /proc/meminfo  # Количество оперативной памяти, выделяемой для CPU, T4GPU и TPU в Google Colab"
      ]
    },
    {
      "cell_type": "code",
      "execution_count": 2,
      "metadata": {
        "id": "0soxrhFo_Pgy",
        "colab": {
          "base_uri": "https://localhost:8080/"
        },
        "outputId": "205ea2ef-c9d0-4242-dde5-33b0c8fd73e2"
      },
      "outputs": [
        {
          "output_type": "stream",
          "name": "stdout",
          "text": [
            "Mounted at /content/drive\n"
          ]
        }
      ],
      "source": [
        "#@title Подключиться к Гугл диску\n",
        "from google.colab import drive\n",
        "drive.mount('/content/drive')"
      ]
    },
    {
      "cell_type": "markdown",
      "metadata": {
        "id": "L_y5e3vt-Yac"
      },
      "source": [
        "# ОБУЧЕНИЕ МОДЕЛИ"
      ]
    },
    {
      "cell_type": "code",
      "execution_count": null,
      "metadata": {
        "id": "-4cWyw8QfR0x"
      },
      "outputs": [],
      "source": [
        "#@title Загрузка и распаковка датасета\n",
        "print('ВВЕДИТЕ ИМЯ ФАЙЛА ДАТАСЕТА my_coco.zip')\n",
        "#from google.colab import files\n",
        "uploaded = files.upload()      # Загружаем файл датасета\n",
        "\n",
        "def load_dataset():           # import zipfile\n",
        "    output = \"my_coco.zip\"\n",
        "    # Распаковываем архив в текущую директорию\n",
        "    with zipfile.ZipFile(output, 'r') as zip_ref:\n",
        "        zip_ref.extractall()\n",
        "    print(\"\\n Датасет загружен!\")\n",
        "load_dataset()"
      ]
    },
    {
      "cell_type": "code",
      "execution_count": null,
      "metadata": {
        "id": "Kr0l1e4VIlLE"
      },
      "outputs": [],
      "source": [
        "#@title Загрузить модель в Colab\n",
        "print('ЗАГРУЗИТЕ ДООБУЧЕННУЮ МОДЕЛЬ С ЛОКАЛЬНОГО КОМПЬЮТЕРА')\n",
        "uploaded = files.upload()    # Загружаем файл"
      ]
    },
    {
      "cell_type": "code",
      "execution_count": null,
      "metadata": {
        "id": "3bEfNx-YUdnG"
      },
      "outputs": [],
      "source": [
        "#@title Наименование модели - выбрать:"
      ]
    },
    {
      "cell_type": "code",
      "execution_count": 3,
      "metadata": {
        "id": "wwARUorcJzHP"
      },
      "outputs": [],
      "source": [
        "mod = 'yolov8n.pt'"
      ]
    },
    {
      "cell_type": "code",
      "execution_count": null,
      "metadata": {
        "id": "vQ1sxIeoJqIa"
      },
      "outputs": [],
      "source": [
        "mod = 'yolov8x.pt'"
      ]
    },
    {
      "cell_type": "code",
      "source": [
        "mod = 'best.pt'"
      ],
      "metadata": {
        "id": "_TvtlGynvQPA"
      },
      "execution_count": null,
      "outputs": []
    },
    {
      "cell_type": "code",
      "execution_count": null,
      "metadata": {
        "id": "IDu_EQRGHlBp"
      },
      "outputs": [],
      "source": [
        "mod =  input(\"Введите наименование дообученной модели: \")"
      ]
    },
    {
      "cell_type": "code",
      "execution_count": null,
      "metadata": {
        "id": "BG5l01fq1maJ",
        "colab": {
          "base_uri": "https://localhost:8080/"
        },
        "outputId": "742d91bc-9193-4095-d568-fe361248bc93"
      },
      "outputs": [
        {
          "output_type": "stream",
          "name": "stdout",
          "text": [
            "\n",
            "ЦИКЛ №  1\n",
            "Ultralytics YOLOv8.2.79 🚀 Python-3.10.12 torch-2.3.1+cu121 CPU (Intel Xeon 2.20GHz)\n",
            "\u001b[34m\u001b[1mengine/trainer: \u001b[0mtask=detect, mode=train, model=yolov8n.pt, data=/content/data.yaml, epochs=20, time=None, patience=5, batch=16, imgsz=640, save=True, save_period=-1, cache=False, device=None, workers=8, project=None, name=train5, exist_ok=False, pretrained=True, optimizer=auto, verbose=True, seed=0, deterministic=True, single_cls=False, rect=False, cos_lr=False, close_mosaic=10, resume=False, amp=True, fraction=1.0, profile=False, freeze=None, multi_scale=False, overlap_mask=True, mask_ratio=4, dropout=0.0, val=True, split=val, save_json=False, save_hybrid=False, conf=0.5, iou=0.7, max_det=100, half=False, dnn=False, plots=True, source=None, vid_stride=1, stream_buffer=False, visualize=False, augment=False, agnostic_nms=False, classes=None, retina_masks=False, embed=None, show=False, save_frames=False, save_txt=False, save_conf=False, save_crop=False, show_labels=True, show_conf=True, show_boxes=True, line_width=None, format=torchscript, keras=False, optimize=False, int8=False, dynamic=False, simplify=False, opset=None, workspace=4, nms=False, lr0=0.01, lrf=0.01, momentum=0.937, weight_decay=0.0005, warmup_epochs=3.0, warmup_momentum=0.8, warmup_bias_lr=0.1, box=7.5, cls=0.5, dfl=1.5, pose=12.0, kobj=1.0, label_smoothing=0.0, nbs=64, hsv_h=0.015, hsv_s=0.7, hsv_v=0.4, degrees=0.0, translate=0.1, scale=0.5, shear=0.0, perspective=0.0, flipud=0.0, fliplr=0.5, bgr=0.0, mosaic=1.0, mixup=0.0, copy_paste=0.0, auto_augment=randaugment, erasing=0.4, crop_fraction=1.0, cfg=None, tracker=botsort.yaml, save_dir=runs/detect/train5\n",
            "Downloading https://ultralytics.com/assets/Arial.ttf to '/root/.config/Ultralytics/Arial.ttf'...\n"
          ]
        },
        {
          "output_type": "stream",
          "name": "stderr",
          "text": [
            "100%|██████████| 755k/755k [00:00<00:00, 63.3MB/s]\n"
          ]
        },
        {
          "output_type": "stream",
          "name": "stdout",
          "text": [
            "Overriding model.yaml nc=80 with nc=22\n",
            "\n",
            "                   from  n    params  module                                       arguments                     \n",
            "  0                  -1  1       464  ultralytics.nn.modules.conv.Conv             [3, 16, 3, 2]                 \n",
            "  1                  -1  1      4672  ultralytics.nn.modules.conv.Conv             [16, 32, 3, 2]                \n",
            "  2                  -1  1      7360  ultralytics.nn.modules.block.C2f             [32, 32, 1, True]             \n",
            "  3                  -1  1     18560  ultralytics.nn.modules.conv.Conv             [32, 64, 3, 2]                \n",
            "  4                  -1  2     49664  ultralytics.nn.modules.block.C2f             [64, 64, 2, True]             \n",
            "  5                  -1  1     73984  ultralytics.nn.modules.conv.Conv             [64, 128, 3, 2]               \n",
            "  6                  -1  2    197632  ultralytics.nn.modules.block.C2f             [128, 128, 2, True]           \n",
            "  7                  -1  1    295424  ultralytics.nn.modules.conv.Conv             [128, 256, 3, 2]              \n",
            "  8                  -1  1    460288  ultralytics.nn.modules.block.C2f             [256, 256, 1, True]           \n",
            "  9                  -1  1    164608  ultralytics.nn.modules.block.SPPF            [256, 256, 5]                 \n",
            " 10                  -1  1         0  torch.nn.modules.upsampling.Upsample         [None, 2, 'nearest']          \n",
            " 11             [-1, 6]  1         0  ultralytics.nn.modules.conv.Concat           [1]                           \n",
            " 12                  -1  1    148224  ultralytics.nn.modules.block.C2f             [384, 128, 1]                 \n",
            " 13                  -1  1         0  torch.nn.modules.upsampling.Upsample         [None, 2, 'nearest']          \n",
            " 14             [-1, 4]  1         0  ultralytics.nn.modules.conv.Concat           [1]                           \n",
            " 15                  -1  1     37248  ultralytics.nn.modules.block.C2f             [192, 64, 1]                  \n",
            " 16                  -1  1     36992  ultralytics.nn.modules.conv.Conv             [64, 64, 3, 2]                \n",
            " 17            [-1, 12]  1         0  ultralytics.nn.modules.conv.Concat           [1]                           \n",
            " 18                  -1  1    123648  ultralytics.nn.modules.block.C2f             [192, 128, 1]                 \n",
            " 19                  -1  1    147712  ultralytics.nn.modules.conv.Conv             [128, 128, 3, 2]              \n",
            " 20             [-1, 9]  1         0  ultralytics.nn.modules.conv.Concat           [1]                           \n",
            " 21                  -1  1    493056  ultralytics.nn.modules.block.C2f             [384, 256, 1]                 \n",
            " 22        [15, 18, 21]  1    755602  ultralytics.nn.modules.head.Detect           [22, [64, 128, 256]]          \n",
            "Model summary: 225 layers, 3,015,138 parameters, 3,015,122 gradients, 8.2 GFLOPs\n",
            "\n",
            "Transferred 319/355 items from pretrained weights\n",
            "\u001b[34m\u001b[1mTensorBoard: \u001b[0mStart with 'tensorboard --logdir runs/detect/train5', view at http://localhost:6006/\n",
            "Freezing layer 'model.22.dfl.conv.weight'\n"
          ]
        },
        {
          "output_type": "stream",
          "name": "stderr",
          "text": [
            "\u001b[34m\u001b[1mtrain: \u001b[0mScanning /content/drive/MyDrive/Стажировка/Dataset/image_annotation/train/labels.cache... 7988 images, 20 backgrounds, 0 corrupt: 100%|██████████| 8008/8008 [00:00<?, ?it/s]\n"
          ]
        },
        {
          "output_type": "stream",
          "name": "stdout",
          "text": [
            "\u001b[34m\u001b[1malbumentations: \u001b[0mBlur(p=0.01, blur_limit=(3, 7)), MedianBlur(p=0.01, blur_limit=(3, 7)), ToGray(p=0.01), CLAHE(p=0.01, clip_limit=(1, 4.0), tile_grid_size=(8, 8))\n"
          ]
        },
        {
          "output_type": "stream",
          "name": "stderr",
          "text": [
            "\u001b[34m\u001b[1mval: \u001b[0mScanning /content/drive/MyDrive/Стажировка/Dataset/image_annotation/valid/labels.cache... 848 images, 864 backgrounds, 0 corrupt: 100%|██████████| 1712/1712 [00:00<?, ?it/s]\n"
          ]
        },
        {
          "output_type": "stream",
          "name": "stdout",
          "text": [
            "Plotting labels to runs/detect/train5/labels.jpg... \n",
            "\u001b[34m\u001b[1moptimizer:\u001b[0m 'optimizer=auto' found, ignoring 'lr0=0.01' and 'momentum=0.937' and determining best 'optimizer', 'lr0' and 'momentum' automatically... \n",
            "\u001b[34m\u001b[1moptimizer:\u001b[0m AdamW(lr=0.000385, momentum=0.9) with parameter groups 57 weight(decay=0.0), 64 weight(decay=0.0005), 63 bias(decay=0.0)\n",
            "\u001b[34m\u001b[1mTensorBoard: \u001b[0mmodel graph visualization added ✅\n",
            "Image sizes 640 train, 640 val\n",
            "Using 0 dataloader workers\n",
            "Logging results to \u001b[1mruns/detect/train5\u001b[0m\n",
            "Starting training for 20 epochs...\n",
            "\n",
            "      Epoch    GPU_mem   box_loss   cls_loss   dfl_loss  Instances       Size\n"
          ]
        },
        {
          "output_type": "stream",
          "name": "stderr",
          "text": [
            "       1/20         0G     0.7112      1.909     0.9109        272        640:  96%|█████████▋| 483/501 [2:34:48<05:47, 19.30s/it]"
          ]
        }
      ],
      "source": [
        "#@title Обучение модели\n",
        "#torch.cuda.empty_cache()    # функция для освобождения кэша видеопамяти и освобождает неиспользуемую память\n",
        "# Копировать data.yaml из гугл диска в рабочую папку Colab /content/\n",
        "!cp -r /content/drive/MyDrive/Стажировка/Dataset/data.yaml   /content/\n",
        "\n",
        "model = YOLO(mod)\n",
        "\n",
        "for epoch in range(1):\n",
        "  print('\\nЦИКЛ № ', epoch+1)\n",
        "  # код для обучения модели на количестве эпох epochs=\n",
        "  results = model.train(data=\"/content/data.yaml\", epochs=20, patience=5, single_cls=False, conf=0.5, max_det=100)\n",
        "  #results = model.train(data=\"/content/my_coco.yaml\", epochs=200, imgsz=640, patience=20, cache=True, save_period=5, single_cls=True, resume=True, conf=0.5, max_det=100)\n",
        "                        # patience=50 - это количество эпох, которые вы хотите подождать, прежде чем остановить обучение модели yolov8n, если она не улучшает свою производительность\n",
        "                        # cache=True - параметр, который определяет, хотите ли вы кэшировать изображения и аннотации вашего набора данных в памяти для ускорения обучения модели yolov8n\n",
        "                        # save_period - параметр, который определяет, как часто вы хотите сохранять обученные веса модели yolov8n во время обучения\n",
        "                        # workers=8 - рабочих процессов для загрузки данных, что может ускорить обучение модели, если у вас есть достаточно памяти и ресурсов\n",
        "                    # single_cls=False - это параметр, который определяет, хотите ли вы обучить модель yolov8n для детектирования только одного класса объектов на изображениях\n",
        "                        # resume=False: это булевый параметр, который определяет, продолжать ли обучение с последней точки сохранения (checkpoint) или начать с нуля.\n",
        "                        # dropout=0.0: это вещественный параметр, который определяет, какую долю нейронов отключать (dropout) во время обучения.\n",
        "                        # conf=None: это вещественный параметр, который определяет, какой порог уверенности (confidence threshold) использовать для фильтрации предсказаний модели.\n",
        "                        #     Порог уверенности означает, что модель будет игнорировать предсказания, у которых уверенность ниже заданного значения.\n",
        "                        #     Значение этого параметра должно быть в диапазоне от 0 до 1, где 0 означает не использовать порог уверенности, а\n",
        "                        #     1 означает использовать максимальный порог уверенности.\n",
        "                        # max_det=300: это целочисленный параметр, который определяет, какое максимальное количество предсказаний модели сохранять для каждого изображения.\n",
        "                        #\n",
        "\n",
        "  #locale.getpreferredencoding = lambda: \"UTF-8\"# Чтобы исправить ошибку (NotimlementedError: A UTF-8 locale is required. Got ANSI_X3.4-1968), вам нужно изменить вашу локальную среду на UTF-8\n",
        "  #torch.cuda.empty_cache() # очистить кэш видеопамяти\n",
        "  #!cp -r /content/runs/detect/train   /content/drive/MyDrive/'Colab Notebooks'/РАБОЧАЯ  # Копирование папки train с обученными весами из Colab на Гугл диск\n",
        "  #!mv /content/runs/detect/train/weights/best.pt /content     # переместить файл best.pt из одной папки в текущую папку /content.\n",
        "  #!rm -rf /content/runs/detect/train        # удалить папку и все ее содержимое\n",
        "  #!rm -rf /content/best.pt\n",
        "################################################################################################################\n",
        "  # mod = 'best.pt'        # Раскомментировать если дообучивать модель на best.pt весах, изменить значение range()\n",
        "  # model = YOLO(mod)        # Раскомментировать если дообучивать модель на best.pt весах\n",
        "  # Закомментировать  !rm -rf /content/best.pt"
      ]
    },
    {
      "cell_type": "markdown",
      "metadata": {
        "id": "FV8TUliyUwvB"
      },
      "source": [
        "[Текст ссылки](https://)#Дообучение модели yolov8"
      ]
    },
    {
      "cell_type": "markdown",
      "metadata": {
        "id": "a3TxBaAdY8kk"
      },
      "source": [
        "*ВНИМАНИЕ!!! Если вы провели обучение, то перед запуском следующей ячейки перезапустите среду выполнения. Иначе может возникнуть ошибка:*\n",
        "\n",
        "<div align=\"left\">\n",
        "  <img\n",
        "    width=\"500\"\n",
        "    src=\"https://storage.yandexcloud.net/aiueducation/marketing/datasets/robot/ris.png\"\n",
        "  >\n",
        "</div>"
      ]
    },
    {
      "cell_type": "markdown",
      "metadata": {
        "id": "I1841lReYIsw"
      },
      "source": [
        "NotimlementedError: A UTF-8 locale is required. Got ANSI_X3.4-1968\n",
        "\n",
        "Эта ошибка означает, что Colab ожидает, что ваша локальная среда будет использовать кодировку UTF-8, но вместо этого она использует кодировку ANSI_X3.4-1968, которая также известна как ASCII. Это может привести к проблемам с чтением и записью файлов, содержащих символы, отличные от английского алфавита. Чтобы исправить эту ошибку, вам нужно изменить вашу локальную среду на UTF-8, используя один из следующих способов:\n",
        "\n",
        "•  Вы можете установить переменную окружения LC_ALL в значение C.UTF-8, используя команду !export LC_ALL=C.UTF-8 в Colab. Это изменит локаль для всех программ, запущенных в Colabhttps://github.com/googlecolab/colabtools/issues/3409.\n",
        "\n",
        "•  Вы можете переопределить функцию locale.getpreferredencoding, чтобы она всегда возвращала значение UTF-8, используя следующий код Python в Colab:\n",
        "\n",
        "import locale\n",
        "\n",
        "locale.getpreferredencoding = lambda: \"UTF-8\"\n",
        "\n",
        "Это изменит локаль только для Python программ, запущенных в Colabhttps://stackoverflow.com/questions/56081324/why-are-google-colab-shell-commands-not-workinghttps://qiita.com/szk1akhr/items/cec720bb4d90218eef27.\n",
        "\n",
        "•  Вы можете удалить переменную окружения LC_ALL, если она была установлена какой-то библиотекой, например, turicreate, используя следующий код Python в Colab:\n",
        "\n",
        "import os\n",
        "del os.environ['LC_ALL']\n",
        "\n",
        "Это вернет локаль к значению по умолчанию, которое должно быть UTF-8https://blog.csdn.net/qq_33740909/article/details/129102979."
      ]
    }
  ],
  "metadata": {
    "colab": {
      "provenance": [],
      "gpuType": "T4",
      "include_colab_link": true
    },
    "kernelspec": {
      "display_name": "Python 3",
      "name": "python3"
    },
    "language_info": {
      "name": "python"
    },
    "accelerator": "GPU"
  },
  "nbformat": 4,
  "nbformat_minor": 0
}